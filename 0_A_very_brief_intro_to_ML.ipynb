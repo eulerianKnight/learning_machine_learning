{
 "cells": [
  {
   "cell_type": "markdown",
   "source": [
    "# A Very Brief Introduction to Machine Learning."
   ],
   "metadata": {
    "collapsed": false
   },
   "id": "8118e63a18a81fb7"
  },
  {
   "cell_type": "markdown",
   "source": [
    "## Introduction\n",
    "\n",
    "- Machine Learning is a subfield of Computer Science that is concerned with building algorithms based on a collection of examples of some phenomenon.\n",
    "- Types of Learning:\n",
    "    - Supervised Learning: \n",
    "        - Dataset is a collection of labeled examples. $\\{(x_i, y_i)\\}_{i=1}^N$\n",
    "        - Each element $x_i$ is called **feature vector** where each dimension $j = 1,…D$ describes the example or observation in some way. And each value of that vector is called a **feature**.\n",
    "        - "
   ],
   "metadata": {
    "collapsed": false
   },
   "id": "8a55c7435a1614ba"
  },
  {
   "cell_type": "code",
   "execution_count": null,
   "id": "initial_id",
   "metadata": {
    "collapsed": true
   },
   "outputs": [],
   "source": []
  }
 ],
 "metadata": {
  "kernelspec": {
   "display_name": "Python 3",
   "language": "python",
   "name": "python3"
  },
  "language_info": {
   "codemirror_mode": {
    "name": "ipython",
    "version": 2
   },
   "file_extension": ".py",
   "mimetype": "text/x-python",
   "name": "python",
   "nbconvert_exporter": "python",
   "pygments_lexer": "ipython2",
   "version": "2.7.6"
  }
 },
 "nbformat": 4,
 "nbformat_minor": 5
}
