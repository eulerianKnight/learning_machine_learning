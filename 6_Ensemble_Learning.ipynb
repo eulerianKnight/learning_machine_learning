{
 "cells": [
  {
   "cell_type": "markdown",
   "source": [
    "# Ensemble Learning\n",
    "\n",
    "- Combine different classifiers into a meta-classifier that has better generalization performance than each classifier alone.\n",
    "- **Majority Voting Principle**: *Select the label that has been predicted by the majority of classifiers.*"
   ],
   "metadata": {
    "collapsed": false
   },
   "id": "609a3922df43f32a"
  },
  {
   "cell_type": "code",
   "execution_count": null,
   "id": "initial_id",
   "metadata": {
    "collapsed": true
   },
   "outputs": [],
   "source": []
  }
 ],
 "metadata": {
  "kernelspec": {
   "display_name": "Python 3",
   "language": "python",
   "name": "python3"
  },
  "language_info": {
   "codemirror_mode": {
    "name": "ipython",
    "version": 2
   },
   "file_extension": ".py",
   "mimetype": "text/x-python",
   "name": "python",
   "nbconvert_exporter": "python",
   "pygments_lexer": "ipython2",
   "version": "2.7.6"
  }
 },
 "nbformat": 4,
 "nbformat_minor": 5
}
